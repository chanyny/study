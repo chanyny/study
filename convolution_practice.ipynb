{
 "cells": [
  {
   "cell_type": "code",
   "execution_count": null,
   "metadata": {
    "scrolled": true
   },
   "outputs": [],
   "source": [
    "import numpy as np\n",
    "import cv2 as cv\n",
    "from skimage.exposure import rescale_intensity\n",
    "image=cv.imread('/home/socmgr/5.jpg')\n",
    "# road any image\n",
    "kernel=np.array([[-1,-1,-1],[-1,8,-1],[-1,-1,-1]])\n",
    "# sharpen filter\n",
    "def convolve_RGB(image, kernel, padding, stride):\n",
    "    r,g,b=cv.split(image)\n",
    "    dst_r=convolve(r, kernel, padding,stride)\n",
    "    dst_g=convolve(g, kernel, padding,stride)\n",
    "    dst_b=convolve(b, kernel, padding,stride)\n",
    "    output=cv.merge((dst_r,dst_g,dst_b))\n",
    "    return output\n",
    "    \n",
    "def convolve(image, kernel, padding, stride):\n",
    "    # create convolve fuction\n",
    "    (image_H,image_W)=image.shape[:2]\n",
    "    (kernel_H,kernel_W)=kernel.shape[:2]\n",
    "    \n",
    "    #print(image.shape)\n",
    "    \n",
    "    if padding==0:\n",
    "        arange_size=padding\n",
    "        cg=2\n",
    "    elif padding==1:\n",
    "        arange_size=padding\n",
    "        cg=0\n",
    "    else :\n",
    "        arange_size=2*padding\n",
    "        cg=0\n",
    "    #         \n",
    "        \n",
    "    image = cv.copyMakeBorder(image,padding,padding,padding,padding,cv.BORDER_REPLICATE)\n",
    "    output_H=int((image_H+2*padding-kernel_H)/stride+1)\n",
    "    output_W=int((image_W+2*padding-kernel_W)/stride+1)\n",
    "    output = np.zeros((output_H,output_W),dtype=\"float32\")\n",
    "    for y in np.arange(padding+cg, image_H+arange_size-cg, stride):\n",
    "        for x in np.arange(padding+cg, image_W+arange_size-cg, stride):\n",
    "            roi = image[y-padding:y-padding+3, x-padding:x-padding+3]\n",
    "            k=(roi*kernel).sum()\n",
    "            by=int((y-padding)/stride)\n",
    "            bx=int((x-padding)/stride)\n",
    "            output[by,bx]=k\n",
    "            \n",
    "    output = rescale_intensity(output, in_range=(0,255))\n",
    "    output = (output * 255).astype(\"uint8\")\n",
    "    \n",
    "    return output\n",
    "\n",
    "dst=convolve_RGB(image,kernel,2,5)\n",
    "dst2=cv.filter2D(image,-1,kernel)\n",
    "#print(dst.shape)\n",
    "cv.imshow('image',image)\n",
    "cv.imshow('dst',dst)\n",
    "cv.imshow('dst2',dst2)\n",
    "cv.waitKey(0)\n",
    "cv.destroyAllWindows()"
   ]
  },
  {
   "cell_type": "code",
   "execution_count": null,
   "metadata": {},
   "outputs": [],
   "source": []
  },
  {
   "cell_type": "code",
   "execution_count": null,
   "metadata": {},
   "outputs": [],
   "source": []
  }
 ],
 "metadata": {
  "kernelspec": {
   "display_name": "Python 3",
   "language": "python",
   "name": "python3"
  },
  "language_info": {
   "codemirror_mode": {
    "name": "ipython",
    "version": 3
   },
   "file_extension": ".py",
   "mimetype": "text/x-python",
   "name": "python",
   "nbconvert_exporter": "python",
   "pygments_lexer": "ipython3",
   "version": "3.5.2"
  }
 },
 "nbformat": 4,
 "nbformat_minor": 2
}
